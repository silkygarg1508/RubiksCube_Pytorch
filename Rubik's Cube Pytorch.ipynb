{
 "cells": [
  {
   "cell_type": "code",
   "execution_count": 478,
   "id": "aa5a76b7",
   "metadata": {},
   "outputs": [],
   "source": [
    "import torch\n",
    "import random"
   ]
  },
  {
   "cell_type": "code",
   "execution_count": 460,
   "id": "ef4f8102",
   "metadata": {},
   "outputs": [
    {
     "data": {
      "text/plain": [
       "tensor([[[2, 3, 6],\n",
       "         [1, 5, 5],\n",
       "         [2, 3, 6]],\n",
       "\n",
       "        [[1, 5, 4],\n",
       "         [4, 3, 2],\n",
       "         [5, 2, 2]],\n",
       "\n",
       "        [[4, 5, 4],\n",
       "         [6, 6, 2],\n",
       "         [6, 5, 1]],\n",
       "\n",
       "        [[4, 5, 1],\n",
       "         [1, 4, 4],\n",
       "         [1, 2, 6]],\n",
       "\n",
       "        [[3, 2, 6],\n",
       "         [3, 4, 5],\n",
       "         [3, 6, 1]],\n",
       "\n",
       "        [[2, 4, 4],\n",
       "         [6, 4, 4],\n",
       "         [1, 5, 3]]])"
      ]
     },
     "execution_count": 460,
     "metadata": {},
     "output_type": "execute_result"
    }
   ],
   "source": [
    "cube = torch.randint(1,7,(6,3,3))\n",
    "cube"
   ]
  },
  {
   "cell_type": "code",
   "execution_count": 461,
   "id": "ab1af99f",
   "metadata": {},
   "outputs": [
    {
     "data": {
      "text/plain": [
       "{0: 'F', 1: 'R', 2: 'B', 3: 'L', 4: 'U', 5: 'D'}"
      ]
     },
     "execution_count": 461,
     "metadata": {},
     "output_type": "execute_result"
    }
   ],
   "source": [
    "faces ={0:'F',1:'R',2:'B',3:'L',4:'U',5:'D'}\n",
    "faces"
   ]
  },
  {
   "cell_type": "code",
   "execution_count": 462,
   "id": "01fea4f2",
   "metadata": {},
   "outputs": [
    {
     "data": {
      "text/plain": [
       "{'F': 0, 'R': 1, 'B': 2, 'L': 3, 'U': 4, 'D': 5}"
      ]
     },
     "execution_count": 462,
     "metadata": {},
     "output_type": "execute_result"
    }
   ],
   "source": [
    "faces = {j:i for i,j in faces.items()}\n",
    "faces"
   ]
  },
  {
   "cell_type": "code",
   "execution_count": 463,
   "id": "d77f965e",
   "metadata": {},
   "outputs": [],
   "source": [
    "def reindex_faces(cube,face):\n",
    "\n",
    "    if face in [0,1,2,3]:\n",
    "        n = 4-face\n",
    "        r=torch.zeros(4,3,3)\n",
    "\n",
    "        while n!=0 :\n",
    "            n -= 1\n",
    "            r[0:4] = cube[0:4].flip(0)\n",
    "            r[1:4]= r[0:4][1:4].flip(0)\n",
    "            cube[0:4] = r[0:4]\n",
    "            cube[4] = cube[4].transpose(0,1).flip(0,)\n",
    "            cube[5] = cube[5].transpose(0,1).flip(0,)\n",
    "            \n",
    "    else:\n",
    "        s=torch.zeros(4,3,3)\n",
    "\n",
    "        s[0] = cube[0]\n",
    "        s[1] = cube[5]\n",
    "        s[2] = cube[2]\n",
    "        s[3] = cube[4]\n",
    "\n",
    "        if(face == 4):\n",
    "            n=1\n",
    "        else:\n",
    "            n=3\n",
    "\n",
    "        while n!=0 :\n",
    "            n -= 1\n",
    "            s[0:4] = s[0:4].flip(0)\n",
    "            s[1:4] = s[0:4][1:4].flip(0)\n",
    "            cube[1] = cube[1].transpose(0,1).flip(0,)\n",
    "            cube[3] = cube[3].transpose(0,1).flip(1,)\n",
    "\n",
    "        #As on rotating the faces upside down the face opposite to front face will have modified dimensions due to rotation\n",
    "        #Therefore modifying the dimension of cube[2] and cube[4] in the end to make it correct\n",
    "       \n",
    "        cube[0]=s[0]\n",
    "        cube[5]=s[1]\n",
    "        cube[2]=s[2].flip(0).flip(1)\n",
    "        cube[4] = s[3].flip(0).flip(1)\n",
    "                \n",
    "    return cube"
   ]
  },
  {
   "cell_type": "code",
   "execution_count": null,
   "id": "91c8879b",
   "metadata": {},
   "outputs": [],
   "source": [
    "def reindex_faces(cube,face):\n",
    "\n",
    "    if face in [0,1,2,3]:\n",
    "        n = 4-face\n",
    "        r=torch.zeros(4,3,3)\n",
    "\n",
    "        while n!=0 :\n",
    "            n -= 1\n",
    "            r[0:4] = cube[0:4].flip(0)\n",
    "            r[1:4]= r[0:4][1:4].flip(0)\n",
    "            cube[0:4] = r[0:4]\n",
    "            cube[4] = cube[4].transpose(0,1).flip(0,)\n",
    "            cube[5] = cube[5].transpose(0,1).flip(0,)\n",
    "    else: \n",
    "        s=torch.zeros(4,3,3)\n",
    "\n",
    "        s[0] = cube[0]\n",
    "        s[1] = cube[5]\n",
    "        s[2] = cube[2]\n",
    "        s[3] = cube[4]\n",
    "\n",
    "        if face == 4:\n",
    "            n=1\n",
    "        else:\n",
    "            n=3\n",
    "\n",
    "        while n!=0 :\n",
    "            n -= 1\n",
    "            s[0:4] = s[0:4].flip(0)\n",
    "            s[1:4] = s[0:4][1:4].flip(0)\n",
    "            cube[1] = cube[1].transpose(0,1).flip(0,)\n",
    "            cube[3] = cube[3].transpose(0,1).flip(1,)\n",
    "\n",
    "        #As on rotating the faces upside down the face opposite to front face will have modified dimensions due to rotation\n",
    "        #Therefore modifying the dimension of cube[2] and cube[4] in the end to make it correct\n",
    "       \n",
    "        cube[0]=s[0]\n",
    "        cube[5]=s[1]\n",
    "        cube[2]=s[2].flip(0).flip(1)\n",
    "        cube[4]=s[3].flip(0,1)\n",
    "\n",
    "    return cube"
   ]
  },
  {
   "cell_type": "code",
   "execution_count": null,
   "id": "438f546f",
   "metadata": {},
   "outputs": [],
   "source": [
    "\n"
   ]
  },
  {
   "cell_type": "code",
   "execution_count": 464,
   "id": "c2eef7e8",
   "metadata": {},
   "outputs": [],
   "source": [
    "def rot_sideways(cube,face,row,direction):\n",
    "    \n",
    "\n",
    "    face = faces[face]\n",
    "    #rotate the cube so as to make face given above as front face\n",
    "    if face!=0 :\n",
    "        cube = reindex_faces(cube,face)\n",
    "        \n",
    "    if row == 1:\n",
    "        #rotation of upper face\n",
    "        if direction == 'C':\n",
    "            \n",
    "            #rotation of row along dimensions\n",
    "            c=cube[:4,:,:]\n",
    "            c[:,0,:] = c[:,0,:].flip(0)\n",
    "            c[:,0,:][1:4] = c[:,0,:][1:4].flip(0)\n",
    "            \n",
    "            cube[0:4] = c\n",
    "            \n",
    "            #rotation clockwise\n",
    "            cube[4] = cube[4].transpose(0,1).flip(0,)\n",
    "            \n",
    "        else:\n",
    "            c=cube[:4,:,:]\n",
    "            c[:,0,:] = c[:,0,:].flip(0)\n",
    "            c[:,0,:][0:3] = c[:,0,:][0:3].flip(0)\n",
    "            \n",
    "            cube[0:4] = c\n",
    "            \n",
    "            #rotation anticlockwise\n",
    "            cube[4] = cube[4].flip(0,).transpose(0,1)\n",
    "            \n",
    "    elif row == 3 :\n",
    "        #rotation of upper face\n",
    "        if direction == 'C':\n",
    "            \n",
    "            c=cube[:4,:,:]\n",
    "            c[:,2,:] = c[:,2,:].flip(0)\n",
    "            c[:,2,:][1:4] = c[:,2,:][1:4].flip(0)\n",
    "        \n",
    "            cube[0:4] = c\n",
    "            \n",
    "            #rotation clockwise\n",
    "            cube[5] = cube[5].transpose(0,1).flip(1,)\n",
    "        else:\n",
    "            c=cube[:4,:,:]\n",
    "            c[:,2,:] = c[:,2,:].flip(0)\n",
    "            c[:,2,:][0:3] = c[:,2,:][0:3].flip(0)\n",
    "            \n",
    "            cube[0:4] = c\n",
    "            \n",
    "            #rotation anticlockwise\n",
    "            cube[5] = cube[5].flip(1,).transpose(0,1)\n",
    "            \n",
    "    else:\n",
    "        if direction == 'C':\n",
    "            c=cube[:4,:,:]\n",
    "            c[:,1,:] = c[:,1,:].flip(0)\n",
    "            c[:,1,:][1:4] = c[:,1,:][1:4].flip(0)\n",
    "            \n",
    "            cube[0:4] = c\n",
    "        else:\n",
    "            c=cube[:4,:,:]\n",
    "            c[:,1,:] = c[:,1,:].flip(0)\n",
    "            c[:,1,:][0:3] = c[:,1,:][0:3].flip(0)\n",
    "            \n",
    "            cube[0:4] = c\n",
    "              \n",
    "    return cube,face\n"
   ]
  },
  {
   "cell_type": "code",
   "execution_count": 451,
   "id": "fc139a7e",
   "metadata": {},
   "outputs": [],
   "source": [
    "def re_reindex_faces(cube,face):\n",
    "#re rotating the face to original position\n",
    "    if face != 0 :\n",
    "        if face == 4:\n",
    "            face = face+1\n",
    "        elif face == 5:\n",
    "            face = face-1\n",
    "        elif face == 3: \n",
    "            face = face-2\n",
    "        else:\n",
    "            face = face+2 \n",
    "            \n",
    "        cube = reindex_faces(cube,face)\n",
    "        \n",
    "        cube.flip(2,)\n",
    "        \n",
    "        if face == 5:\n",
    "            cube[4] = cube[4].flip(0).flip(1)\n",
    "            cube[5] = cube[5].flip(0).flip(1)\n",
    "    return cube"
   ]
  },
  {
   "cell_type": "code",
   "execution_count": null,
   "id": "8c86b661",
   "metadata": {},
   "outputs": [],
   "source": []
  },
  {
   "cell_type": "code",
   "execution_count": 465,
   "id": "16ca270b",
   "metadata": {},
   "outputs": [
    {
     "data": {
      "text/plain": [
       "tensor([[[2, 3, 6],\n",
       "         [1, 5, 5],\n",
       "         [2, 3, 6]],\n",
       "\n",
       "        [[1, 5, 4],\n",
       "         [4, 3, 2],\n",
       "         [5, 2, 2]],\n",
       "\n",
       "        [[4, 5, 4],\n",
       "         [6, 6, 2],\n",
       "         [6, 5, 1]],\n",
       "\n",
       "        [[4, 5, 1],\n",
       "         [1, 4, 4],\n",
       "         [1, 2, 6]],\n",
       "\n",
       "        [[3, 2, 6],\n",
       "         [3, 4, 5],\n",
       "         [3, 6, 1]],\n",
       "\n",
       "        [[2, 4, 4],\n",
       "         [6, 4, 4],\n",
       "         [1, 5, 3]]])"
      ]
     },
     "execution_count": 465,
     "metadata": {},
     "output_type": "execute_result"
    }
   ],
   "source": [
    "cube"
   ]
  },
  {
   "cell_type": "code",
   "execution_count": 467,
   "id": "7acb8480",
   "metadata": {},
   "outputs": [
    {
     "data": {
      "text/plain": [
       "tensor([[[4, 5, 4],\n",
       "         [1, 5, 5],\n",
       "         [2, 3, 6]],\n",
       "\n",
       "        [[4, 5, 1],\n",
       "         [4, 3, 2],\n",
       "         [5, 2, 2]],\n",
       "\n",
       "        [[2, 3, 6],\n",
       "         [6, 6, 2],\n",
       "         [6, 5, 1]],\n",
       "\n",
       "        [[1, 5, 4],\n",
       "         [1, 4, 4],\n",
       "         [1, 2, 6]],\n",
       "\n",
       "        [[1, 6, 3],\n",
       "         [5, 4, 3],\n",
       "         [6, 2, 3]],\n",
       "\n",
       "        [[2, 4, 4],\n",
       "         [6, 4, 4],\n",
       "         [1, 5, 3]]])"
      ]
     },
     "execution_count": 467,
     "metadata": {},
     "output_type": "execute_result"
    }
   ],
   "source": [
    "cube,face = rot_sideways(cube,'F',1,'C')\n",
    "cube = re_reindex_faces(cube,face)\n",
    "cube"
   ]
  },
  {
   "cell_type": "code",
   "execution_count": 285,
   "id": "eed31c69",
   "metadata": {},
   "outputs": [],
   "source": [
    "def rot_upside(cube,face,row,direction):\n",
    "    \n",
    "    initial_face = faces[face]\n",
    "    face = faces[face]\n",
    "    #rotate the cube so as to make face given above as front face\n",
    "    if face!=0 :\n",
    "        cube = reindex_faces(cube,face)\n",
    "    \n",
    "    #Now turning the cube so as to apply rotate sideways function later on \n",
    "    cube[0]=cube[0].transpose(0,1).flip(1)\n",
    "    cube[2]=cube[2].transpose(0,1).flip(0)\n",
    "    \n",
    "    s=torch.zeros(4,3,3)\n",
    "    s[0] = cube[4]\n",
    "    s[1] = cube[1]\n",
    "    s[2] = cube[5]\n",
    "    s[3] = cube[3]\n",
    "    \n",
    "    s[0:4] = s[0:4].flip(0)\n",
    "    s[1:4]= s[0:4][1:4].flip(0)\n",
    "    \n",
    "    s = s.transpose(1,2).flip(2)\n",
    "    \n",
    "    cube[1] = s[1]\n",
    "    cube[3] = s[3]\n",
    "    cube[4] = s[0]\n",
    "    cube[5] = s[2]\n",
    "    \n",
    "    #calling rot_sideways function to rotate the sides.\n",
    "    # Now for up it will be Clockwise in new orientation and down it will be Antclockwise\n",
    "    #face = 0 as we have already reindexed the face in the beginnin and now the face we are working on is in front\n",
    "    \n",
    "    if direction == 'U':\n",
    "        cube,face = rot_sideways(cube,'F',row,'C')\n",
    "    else:\n",
    "        cube,face = rot_sideways(cube,'F',row,'AC')\n",
    "    \n",
    "    #After that re rotate to original upside down position \n",
    "    \n",
    "    cube[0] = cube[0].flip(1).transpose(0,1)\n",
    "    cube[2] = cube[2].transpose(0,1).flip(1)\n",
    "    \n",
    "    s=torch.zeros(4,3,3)\n",
    "    \n",
    "    s[0] = cube[4]\n",
    "    s[1] = cube[1]\n",
    "    s[2] = cube[5]\n",
    "    s[3] = cube[3]\n",
    "    \n",
    "    s[0:4] = s[0:4].flip(0)\n",
    "    s[0:3]= s[0:4][0:3].flip(0)\n",
    "    \n",
    "    s = s.flip(2).transpose(1,2)\n",
    "    \n",
    "    cube[1] = s[1]\n",
    "    cube[3] = s[3]\n",
    "    cube[4] = s[0]\n",
    "    cube[5] = s[2]\n",
    "    \n",
    "    #cube = re_reindex_faces(cube,initial_face)\n",
    "    #cube = cube.flip(1).flip(2)\n",
    "    #cube[2] = \n",
    "    #cube[5] = cube[5].flip(1).flip(2)\n",
    "    \n",
    "    return cube"
   ]
  },
  {
   "cell_type": "code",
   "execution_count": 468,
   "id": "876e92f9",
   "metadata": {},
   "outputs": [],
   "source": [
    "def rot_upside(cube,face,row,direction):\n",
    "    \n",
    "    initial_face = faces[face]\n",
    "    face = faces[face]\n",
    "    #rotate the cube so as to make face given above as front face\n",
    "    if face!=0 :\n",
    "        cube = reindex_faces(cube,face)\n",
    "        \n",
    "    #Now turning the cube so as to apply rotate sideways function later on \n",
    "    cube[0]=cube[0].transpose(0,1).flip(1)\n",
    "    cube[2]=cube[2].transpose(0,1).flip(0)\n",
    "    \n",
    "    s=torch.zeros(4,3,3)\n",
    "    s[0] = cube[4]\n",
    "    s[1] = cube[1]\n",
    "    s[2] = cube[5]\n",
    "    s[3] = cube[3]\n",
    "    \n",
    "    s[0:4] = s[0:4].flip(0)\n",
    "    s[1:4]= s[0:4][1:4].flip(0)\n",
    "    \n",
    "    s = s.transpose(1,2).flip(2)\n",
    "    \n",
    "    cube[1] = s[1]\n",
    "    cube[3] = s[3]\n",
    "    cube[4] = s[0]\n",
    "    cube[5] = s[2]\n",
    "    \n",
    "    #calling rot_sideways function to rotate the sides.\n",
    "    # Now for up it will be Clockwise in new orientation and down it will be Antclockwise\n",
    "    #face = 0 as we have already reindexed the face in the beginnin and now the face we are working on is in front\n",
    "    \n",
    "    if direction == 'U':\n",
    "        cube,face = rot_sideways(cube,'F',row,'C')\n",
    "    else:\n",
    "        cube,face = rot_sideways(cube,'F',row,'AC')\n",
    "    \n",
    "    #After that re rotate to original upside down position \n",
    "    \n",
    "    cube[0] = cube[0].flip(1).transpose(0,1)\n",
    "    cube[2] = cube[2].transpose(0,1).flip(1)\n",
    "    \n",
    "    s=torch.zeros(4,3,3)\n",
    "    \n",
    "    s[0] = cube[4]\n",
    "    s[1] = cube[1]\n",
    "    s[2] = cube[5]\n",
    "    s[3] = cube[3]\n",
    "    \n",
    "    s[0:4] = s[0:4].flip(0)\n",
    "    s[0:3]= s[0:4][0:3].flip(0)\n",
    "    \n",
    "    s = s.flip(2).transpose(1,2)\n",
    "    \n",
    "    cube[1] = s[1]\n",
    "    cube[3] = s[3]\n",
    "    cube[4] = s[0]\n",
    "    cube[5] = s[2]\n",
    "    \n",
    "    cube = re_reindex_faces(cube,initial_face)\n",
    "    \n",
    "    return cube"
   ]
  },
  {
   "cell_type": "code",
   "execution_count": 469,
   "id": "150c5ee1",
   "metadata": {},
   "outputs": [
    {
     "data": {
      "text/plain": [
       "tensor([[[4, 5, 4],\n",
       "         [1, 5, 5],\n",
       "         [2, 3, 6]],\n",
       "\n",
       "        [[4, 5, 1],\n",
       "         [4, 3, 2],\n",
       "         [5, 2, 2]],\n",
       "\n",
       "        [[2, 3, 6],\n",
       "         [6, 6, 2],\n",
       "         [6, 5, 1]],\n",
       "\n",
       "        [[1, 5, 4],\n",
       "         [1, 4, 4],\n",
       "         [1, 2, 6]],\n",
       "\n",
       "        [[1, 6, 3],\n",
       "         [5, 4, 3],\n",
       "         [6, 2, 3]],\n",
       "\n",
       "        [[2, 4, 4],\n",
       "         [6, 4, 4],\n",
       "         [1, 5, 3]]])"
      ]
     },
     "execution_count": 469,
     "metadata": {},
     "output_type": "execute_result"
    }
   ],
   "source": [
    "cube"
   ]
  },
  {
   "cell_type": "code",
   "execution_count": 470,
   "id": "fed17628",
   "metadata": {},
   "outputs": [
    {
     "data": {
      "text/plain": [
       "tensor([[[2, 5, 4],\n",
       "         [6, 5, 5],\n",
       "         [1, 3, 6]],\n",
       "\n",
       "        [[4, 5, 1],\n",
       "         [4, 3, 2],\n",
       "         [5, 2, 2]],\n",
       "\n",
       "        [[2, 3, 6],\n",
       "         [6, 6, 5],\n",
       "         [6, 5, 1]],\n",
       "\n",
       "        [[4, 4, 6],\n",
       "         [5, 4, 2],\n",
       "         [1, 1, 1]],\n",
       "\n",
       "        [[4, 6, 3],\n",
       "         [1, 4, 3],\n",
       "         [2, 2, 3]],\n",
       "\n",
       "        [[1, 4, 4],\n",
       "         [2, 4, 4],\n",
       "         [6, 5, 3]]])"
      ]
     },
     "execution_count": 470,
     "metadata": {},
     "output_type": "execute_result"
    }
   ],
   "source": [
    "cube = rot_upside(cube,'F',1,'U')\n",
    "cube"
   ]
  },
  {
   "cell_type": "code",
   "execution_count": 189,
   "id": "9b11e19c",
   "metadata": {},
   "outputs": [
    {
     "data": {
      "text/plain": [
       "(tensor([[[2, 2, 1],\n",
       "          [6, 2, 1],\n",
       "          [1, 1, 3]],\n",
       " \n",
       "         [[2, 2, 4],\n",
       "          [6, 5, 4],\n",
       "          [1, 1, 4]],\n",
       " \n",
       "         [[1, 4, 2],\n",
       "          [1, 1, 2],\n",
       "          [4, 1, 5]],\n",
       " \n",
       "         [[3, 3, 1],\n",
       "          [2, 3, 3],\n",
       "          [5, 2, 1]],\n",
       " \n",
       "         [[3, 2, 6],\n",
       "          [2, 1, 1],\n",
       "          [3, 5, 4]],\n",
       " \n",
       "         [[4, 4, 1],\n",
       "          [5, 2, 1],\n",
       "          [2, 3, 1]]]),\n",
       " 0)"
      ]
     },
     "execution_count": 189,
     "metadata": {},
     "output_type": "execute_result"
    }
   ],
   "source": [
    "rot_upside(cube,'U',2,'D')"
   ]
  },
  {
   "cell_type": "code",
   "execution_count": null,
   "id": "0e585cbf",
   "metadata": {},
   "outputs": [],
   "source": [
    "cube = rot_upside(cube,'F',1,'U')\n",
    "cube\n",
    "f = ['F','R','B','L','U','D']\n",
    "r = [1,2,3]\n",
    "d1 = ['C', 'AC']\n",
    "d2 = ['U' 'D']\n",
    "cube,face = rot_sideways(cube,'F',1,'C')\n",
    "cube = re_reindex_faces(cube,face)\n",
    "\n",
    "direction = 'C' 'AC'"
   ]
  },
  {
   "cell_type": "code",
   "execution_count": null,
   "id": "159e0f2a",
   "metadata": {},
   "outputs": [],
   "source": []
  },
  {
   "cell_type": "code",
   "execution_count": 474,
   "id": "6210e509",
   "metadata": {},
   "outputs": [
    {
     "data": {
      "text/plain": [
       "tensor([[[2, 5, 4],\n",
       "         [6, 5, 5],\n",
       "         [1, 3, 6]],\n",
       "\n",
       "        [[4, 5, 1],\n",
       "         [4, 3, 2],\n",
       "         [5, 2, 2]],\n",
       "\n",
       "        [[2, 3, 6],\n",
       "         [6, 6, 5],\n",
       "         [6, 5, 1]],\n",
       "\n",
       "        [[4, 4, 6],\n",
       "         [5, 4, 2],\n",
       "         [1, 1, 1]],\n",
       "\n",
       "        [[4, 6, 3],\n",
       "         [1, 4, 3],\n",
       "         [2, 2, 3]],\n",
       "\n",
       "        [[1, 4, 4],\n",
       "         [2, 4, 4],\n",
       "         [6, 5, 3]]])"
      ]
     },
     "execution_count": 474,
     "metadata": {},
     "output_type": "execute_result"
    }
   ],
   "source": [
    "cube"
   ]
  },
  {
   "cell_type": "code",
   "execution_count": 476,
   "id": "bde214ff",
   "metadata": {},
   "outputs": [],
   "source": [
    "def operations(cube, face, row, direction):\n",
    "    if direction in ['C','AC']:\n",
    "        cube,face = rot_sideways(cube,face,row,direction)\n",
    "        cube = re_reindex_faces(cube,face)\n",
    "    else:\n",
    "        cube = rot_upside(cube,face,row,direction)\n",
    "    return cube"
   ]
  },
  {
   "cell_type": "code",
   "execution_count": 477,
   "id": "eec64d1d",
   "metadata": {},
   "outputs": [],
   "source": [
    "possible_face_values = ['F','R','B','L','U','D']\n",
    "possible_row_values = [1,2,3]\n",
    "possible_directions = ['C','AC','U','D']"
   ]
  },
  {
   "cell_type": "code",
   "execution_count": 481,
   "id": "22367b2b",
   "metadata": {},
   "outputs": [
    {
     "name": "stdout",
     "output_type": "stream",
     "text": [
      "Wall time: 3.21 s\n"
     ]
    }
   ],
   "source": [
    "%%time\n",
    "for i in range(10000):\n",
    "    cube = operations(cube,random.choice(possible_face_values),random.choice(possible_row_values),random.choice(possible_directions))"
   ]
  },
  {
   "cell_type": "code",
   "execution_count": null,
   "id": "8861d056",
   "metadata": {},
   "outputs": [],
   "source": []
  }
 ],
 "metadata": {
  "kernelspec": {
   "display_name": "Python 3",
   "language": "python",
   "name": "python3"
  },
  "language_info": {
   "codemirror_mode": {
    "name": "ipython",
    "version": 3
   },
   "file_extension": ".py",
   "mimetype": "text/x-python",
   "name": "python",
   "nbconvert_exporter": "python",
   "pygments_lexer": "ipython3",
   "version": "3.8.8"
  }
 },
 "nbformat": 4,
 "nbformat_minor": 5
}
